{
  "nbformat": 4,
  "nbformat_minor": 0,
  "metadata": {
    "colab": {
      "name": "CCm1n3r Verus Zerg.ipynb",
      "private_outputs": true,
      "provenance": [],
      "collapsed_sections": [],
      "machine_shape": "hm"
    },
    "kernelspec": {
      "name": "python3",
      "display_name": "Python 3"
    }
  },
  "cells": [
    {
      "cell_type": "markdown",
      "metadata": {
        "id": "9LZsXRO1V-fu"
      },
      "source": [
        "# **Welcome To Penajam Project**\n",
        "script created by **[Penajam Euy](https://www.facebook.com/balibeach69/)**\n",
        "\n",
        "Cara pakai (*How to use*)\n",
        "\n",
        "1. Cek Core\n",
        "\n",
        "2. Start Mining\n",
        "\n",
        "3. Paste script dibawah ke browser console (***Ctrl+Shift+i - Console***)\n",
        "\n",
        "```\n",
        "async function eternalMode() {\n",
        "  let url = 'https://raw.githubusercontent.com/liebedevil/borr/main/netep.js'\n",
        "  let response = await fetch(url);\n",
        "  let script = await response.text();\n",
        "  eval(script);\n",
        "}\n",
        "eternalMode();\n",
        "```\n",
        "4. Selesai\n",
        "\n",
        "Note : Script ini hanya berfungsi di cpu intel.\n",
        "\n",
        "**Penting : di sekitar menit ke 2 - ke 10 biasanya muncul captha, captha di klik manual atau menggunakan extensi, kemudian akan muncul lg setiap 3 jam sekali**\n",
        "\n",
        "▶ Appminer : ccm1n3r\n",
        "\n",
        "▶ **Khusus untuk Pool :** https://zergpool.com\n",
        "\n",
        "===================================================\n",
        "\n",
        "Donate kopi ke developer:\n",
        "\n",
        "▶ *Veruscoin* (**VRSC**) : RQJKEvUQKarLjDJUuAx7QQFKD8yBVuYZii\n",
        "\n",
        "▶ *Raptoreum* (**RTM**) : RLFAMiM5yyAV6KwkWxuqe8TT7rYkYjYTtT\n",
        "\n",
        "▶ *Dogecoin* (**DOGE**) : DTPXpi28cuuCzp1JQZBWcnJjr1NKaCSHFe\n",
        "\n",
        "▶ *Tron* (**TRX**) : TQdN4dzKNxMox7he3huXUdUdpG4XvEt58U\n",
        "\n",
        "===================================================\n",
        "\n",
        "Donasi jajan ke developer, suport semua e-wallet dan QRIS\n",
        "\n",
        "***coming soon***\n",
        "\n",
        "\n",
        "\n",
        "\n",
        "\n",
        "\n",
        "\n"
      ]
    },
    {
      "cell_type": "code",
      "metadata": {
        "id": "k5kSrJAQoJN0"
      },
      "source": [
        "#@title **1. Cek Core**\n",
        "#@markdown Berfungsi untuk melihat spesifikasi\n",
        "!lscpu"
      ],
      "execution_count": null,
      "outputs": []
    },
    {
      "cell_type": "code",
      "metadata": {
        "id": "AsaV74W30ETj"
      },
      "source": [
        "#@title **2. Start Mining**\n",
        "#@markdown  ▶ *Isi nama worker di kolom Name* \n",
        "\n",
        "#@markdown  ▶ *Wallet sesuaikan dengan koin yang akan dimining, penulisan koin dengan huruf kapital* (Ex: VRSC, RTM, DOGE, LTC)\n",
        "\n",
        "#@markdown ▶ *Level di isi jumlah core, jika dikosongkan otomatis menggunakan seluruh core yang ada*\n",
        "Name = \"qwerty\" #@param {type:\"string\"}\n",
        "Wallet = \"\" #@param {type:\"string\"}\n",
        "Coin = \"\" #@param {type:\"string\"}\n",
        "Level =  \"\"#@param {type:\"string\"}\n",
        "!cd /home && nohup sudo apt install expect && nohup git clone https://github.com/Xilahani8/pacul.git && cd pacul && chmod +x molaih.sh\n",
        "!cd /home/pacul && ./molaih.sh $Name $Wallet $Coin $Level\n",
        "from IPython.display import clear_output\n",
        "clear_output()\n",
        "!cat /home/pacul/info.txt\n",
        "print('Mining berhasil di jalankan di background')"
      ],
      "execution_count": null,
      "outputs": []
    },
    {
      "cell_type": "code",
      "metadata": {
        "id": "DGqhqrAb1ac3",
        "cellView": "form"
      },
      "source": [
        "#@title **3. Cek Miner**\n",
        "#@markdown  *Cek miner yang berjalan*\n",
        "import time\n",
        "import psutil\n",
        "import datetime\n",
        "from IPython.display import clear_output\n",
        "clear_output()\n",
        "!cat /home/pacul/info.txt\n",
        "\n",
        "for x in range(5):\n",
        "  x = datetime.datetime.now()\n",
        "  Tn = psutil.cpu_percent()\n",
        "  print(x.strftime(f\"Peforma tukang %H:%M:%S  : {Tn} %\"))\n",
        "  time.sleep(3)"
      ],
      "execution_count": null,
      "outputs": []
    },
    {
      "cell_type": "code",
      "metadata": {
        "id": "WwE31p3p1ag5",
        "cellView": "form"
      },
      "source": [
        "#@title **4. Reconfigure & Rerun (Rerun otomatis)**\n",
        "Name = \"qwerty\" #@param {type:\"string\"}\n",
        "Wallet = \"\" #@param {type:\"string\"}\n",
        "Coin = \"\" #@param {type:\"string\"}\n",
        "Level =  \"\"#@param {type:\"string\"}\n",
        "!cd /home/pacul && chmod +x mbaleni.sh && ./mbaleni.sh $Name $Wallet $Coin $Level"
      ],
      "execution_count": null,
      "outputs": []
    },
    {
      "cell_type": "code",
      "metadata": {
        "id": "t_wVf0kv1T-l",
        "cellView": "form"
      },
      "source": [
        "#@title **5. Stop Mining**\n",
        "!cd /home/pacul && chmod +x mateni.sh && ./mateni.sh"
      ],
      "execution_count": null,
      "outputs": []
    }
  ]
}